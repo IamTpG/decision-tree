{
 "cells": [
  {
   "cell_type": "code",
   "execution_count": 3,
   "metadata": {},
   "outputs": [
    {
     "name": "stdout",
     "output_type": "stream",
     "text": [
      "    age  sex   cp  trestbps   chol  fbs  restecg  thalach  exang  oldpeak  \\\n",
      "0  63.0  1.0  1.0     145.0  233.0  1.0      2.0    150.0    0.0      2.3   \n",
      "1  67.0  1.0  4.0     160.0  286.0  0.0      2.0    108.0    1.0      1.5   \n",
      "2  67.0  1.0  4.0     120.0  229.0  0.0      2.0    129.0    1.0      2.6   \n",
      "3  37.0  1.0  3.0     130.0  250.0  0.0      0.0    187.0    0.0      3.5   \n",
      "4  41.0  0.0  2.0     130.0  204.0  0.0      2.0    172.0    0.0      1.4   \n",
      "\n",
      "   slope   ca  thal  Classification  \n",
      "0    3.0  0.0   6.0               0  \n",
      "1    2.0  3.0   3.0               1  \n",
      "2    2.0  2.0   7.0               1  \n",
      "3    3.0  0.0   3.0               0  \n",
      "4    1.0  0.0   3.0               0  \n"
     ]
    }
   ],
   "source": [
    "#import thu vien\n",
    "import pandas as pd \n",
    "import numpy as np\n",
    "\n",
    "\n",
    "\n",
    "# Đọc dữ liệu\n",
    "# Tải dữ liệu\n",
    "column_names = ['age', 'sex', 'cp', 'trestbps', 'chol', 'fbs', 'restecg', 'thalach', 'exang', 'oldpeak', 'slope', 'ca', 'thal', 'Classification']\n",
    "df = pd.read_csv('C:/Users/ACER/Downloads/heart+disease/processed.cleveland.data', names=column_names, header=None, na_values='?')\n",
    "\n",
    "\n",
    "df[\"Classification\"] = df[\"Classification\"].apply(lambda x: 1 if x > 0 else 0)\n",
    "# Xử lý dữ liệu bị thiếu\n",
    "df.replace('?', np.nan, inplace=True)\n",
    "df.dropna(inplace=True)\n",
    "#data set để test (không có cột Classification)\n",
    "print(df.head())"
   ]
  },
  {
   "cell_type": "code",
   "execution_count": 4,
   "metadata": {},
   "outputs": [
    {
     "name": "stdout",
     "output_type": "stream",
     "text": [
      "              precision    recall  f1-score   support\n",
      "\n",
      "           0       0.88      0.79      0.83        19\n",
      "           1       0.69      0.82      0.75        11\n",
      "\n",
      "    accuracy                           0.80        30\n",
      "   macro avg       0.79      0.80      0.79        30\n",
      "weighted avg       0.81      0.80      0.80        30\n",
      "\n"
     ]
    },
    {
     "data": {
      "image/png": "[encoded data removed]",
      "text/plain": [
       "<Figure size 640x480 with 2 Axes>"
      ]
     },
     "metadata": {},
     "output_type": "display_data"
    }
   ],
   "source": [
    "#data set để train\n",
    "labels = df['Classification'].values.reshape(-1,1)\n",
    "features = df.drop(columns = ['Classification']) \n",
    "\n",
    "\n",
    "# Áp dụng One-Hot Encoding cho các cột phân loại (categorical features)\n",
    "\n",
    "from sklearn.compose import ColumnTransformer \n",
    "from sklearn.preprocessing import OneHotEncoder\n",
    "from sklearn.pipeline import Pipeline\n",
    "from sklearn.tree import DecisionTreeClassifier\n",
    "from sklearn.model_selection import train_test_split\n",
    "from sklearn.metrics import confusion_matrix, ConfusionMatrixDisplay\n",
    "from sklearn.metrics import classification_report\n",
    "categorical_features = ['sex', 'cp', 'fbs', 'restecg', 'exang', 'slope', 'ca', 'thal']\n",
    "preprocessor = ColumnTransformer(\n",
    "    transformers=[\n",
    "        ('cat', OneHotEncoder(), categorical_features)\n",
    "    ],\n",
    "    remainder='passthrough'  # Giữ lại các cột số\n",
    ")\n",
    "\n",
    "# Tạo pipeline với Decision Tree và preprocessor\n",
    "pipeline = Pipeline(steps=[\n",
    "    ('preprocessor', preprocessor),\n",
    "    ('classifier', DecisionTreeClassifier(random_state=42))\n",
    "])\n",
    "# Chia dữ liệu thành tập huấn luyện và tập kiểm tra\n",
    "feature_train, feature_test, label_train, label_test = train_test_split(features, labels, test_size=0.1, random_state=42)\n",
    "\n",
    "# Huấn luyện mô hình\n",
    "pipeline.fit(feature_train, label_train)\n",
    "\n",
    "# Dự đoán và hiển thị confusion matrix\n",
    "label_pred = pipeline.predict(feature_test)\n",
    "ConfusionMatrixDisplay.from_estimator(pipeline, feature_test, label_test)\n",
    "report = classification_report(label_test, label_pred)\n",
    "print(report)"
   ]
  }
 ],
 "metadata": {
  "kernelspec": {
   "display_name": ".venv",
   "language": "python",
   "name": "python3"
  },
  "language_info": {
   "codemirror_mode": {
    "name": "ipython",
    "version": 3
   },
   "file_extension": ".py",
   "mimetype": "text/x-python",
   "name": "python",
   "nbconvert_exporter": "python",
   "pygments_lexer": "ipython3",
   "version": "3.11.5"
  }
 },
 "nbformat": 4,
 "nbformat_minor": 2
}
